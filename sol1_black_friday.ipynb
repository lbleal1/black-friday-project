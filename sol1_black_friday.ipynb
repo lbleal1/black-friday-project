{
  "nbformat": 4,
  "nbformat_minor": 0,
  "metadata": {
    "colab": {
      "name": "sol1-black-friday.ipynb",
      "provenance": [],
      "collapsed_sections": [],
      "toc_visible": true
    },
    "kernelspec": {
      "name": "python3",
      "display_name": "Python 3"
    }
  },
  "cells": [
    {
      "cell_type": "markdown",
      "metadata": {
        "id": "QXXeI6lhR43l"
      },
      "source": [
        "# Set-up"
      ]
    },
    {
      "cell_type": "code",
      "metadata": {
        "id": "MWORjbxcRuTT"
      },
      "source": [
        "import pandas as pd\n",
        "import numpy as np\n",
        "import matplotlib.pyplot as plt\n",
        "import seaborn as sns\n",
        "\n",
        "import os\n"
      ],
      "execution_count": 1,
      "outputs": []
    },
    {
      "cell_type": "code",
      "metadata": {
        "id": "-aSq7ThhSBQC"
      },
      "source": [
        "DIR = '/content/drive/My Drive/ml-mini-projects/black-friday'"
      ],
      "execution_count": 2,
      "outputs": []
    },
    {
      "cell_type": "markdown",
      "metadata": {
        "id": "Nus2xI5cFvDJ"
      },
      "source": [
        "# Framing of the Problem"
      ]
    },
    {
      "cell_type": "markdown",
      "metadata": {
        "id": "5WW4thk7GFAD"
      },
      "source": [
        "## Challenge:\n",
        "\n",
        "The following dataset contains information from stores on a Black Friday, which sometimes refer to the Thanksgiving Friday in the US. You are tasked to build a model to predict the purchase amount of customers against various products.\n",
        "\n",
        "**Evaluation Metric:** RMSE <br>\n",
        "**Top scorer score:** 2372.0034421821\n",
        "\n",
        "**Notes:** <br>\n",
        "This challenge and dataset was sourced from [Analytics Vidhya](https://datahack.analyticsvidhya.com/contest/black-friday/?utm_source=facebook.com&utm_medium=social)\n"
      ]
    },
    {
      "cell_type": "markdown",
      "metadata": {
        "id": "Jn6aysbo4d4Q"
      },
      "source": [
        "**Approach:** Regression Problem"
      ]
    },
    {
      "cell_type": "markdown",
      "metadata": {
        "id": "d8_H6KTeSQBV"
      },
      "source": [
        "# Taking Quick Glances"
      ]
    },
    {
      "cell_type": "code",
      "metadata": {
        "id": "7Y8Wg5f3UE8P"
      },
      "source": [
        "df = pd.read_csv(os.path.join(DIR, 'train.csv'))"
      ],
      "execution_count": 3,
      "outputs": []
    },
    {
      "cell_type": "code",
      "metadata": {
        "id": "nMv_HWjpUfaa",
        "outputId": "660c3e77-4aa4-4640-f9ba-67e9574fd769",
        "colab": {
          "base_uri": "https://localhost:8080/",
          "height": 354
        }
      },
      "source": [
        "df.info()"
      ],
      "execution_count": 4,
      "outputs": [
        {
          "output_type": "stream",
          "text": [
            "<class 'pandas.core.frame.DataFrame'>\n",
            "RangeIndex: 550068 entries, 0 to 550067\n",
            "Data columns (total 12 columns):\n",
            " #   Column                      Non-Null Count   Dtype  \n",
            "---  ------                      --------------   -----  \n",
            " 0   User_ID                     550068 non-null  int64  \n",
            " 1   Product_ID                  550068 non-null  object \n",
            " 2   Gender                      550068 non-null  object \n",
            " 3   Age                         550068 non-null  object \n",
            " 4   Occupation                  550068 non-null  int64  \n",
            " 5   City_Category               550068 non-null  object \n",
            " 6   Stay_In_Current_City_Years  550068 non-null  object \n",
            " 7   Marital_Status              550068 non-null  int64  \n",
            " 8   Product_Category_1          550068 non-null  int64  \n",
            " 9   Product_Category_2          376430 non-null  float64\n",
            " 10  Product_Category_3          166821 non-null  float64\n",
            " 11  Purchase                    550068 non-null  int64  \n",
            "dtypes: float64(2), int64(5), object(5)\n",
            "memory usage: 50.4+ MB\n"
          ],
          "name": "stdout"
        }
      ]
    },
    {
      "cell_type": "markdown",
      "metadata": {
        "id": "KQGS5sem4y4c"
      },
      "source": [
        "**Observations:**\n",
        "* It has a total of 550, 068 entries with 12 columns\n",
        "   * Not so many features. Let's not do feature selection first\n",
        "* Data types\n",
        "   * User_ID, Product_ID \n",
        "      * not sure if this will help; try dropping\n",
        "   * Gender, City Category as strings\n",
        "      * hot encode this\n",
        "   * Age, Stay In Current City Years are unexpectedly written as strings\n",
        "      * Label Encoding - try converting to int or float (check unique values to decide)\n",
        "   * Occupation is int (so already label encoded)\n",
        "      * This may be placed for a reason. Let's try using this before hot encoding\n",
        "   * Marital Status is already in its correct form\n",
        "   * Product Category 1 and 2 are ints and 3 are floats.\n",
        "      * can we convert Product Category 3 as int too?\n",
        "      * also let's try to use this(label encoded) before doing one-hot\n",
        "   * Purchase\n",
        "      * does this represent the actual or in thousands or what? (no info to verify this)\n",
        "* Nulls\n",
        "   * Product Category 2 and 3 have many nulls\n"
      ]
    },
    {
      "cell_type": "markdown",
      "metadata": {
        "id": "ExUBEH0W73DG"
      },
      "source": [
        "1. Let's first deal with the nulls"
      ]
    },
    {
      "cell_type": "code",
      "metadata": {
        "id": "qmyIrteqUpUl",
        "outputId": "b03064f3-1ff0-46a2-f3bf-717d912ce6f9",
        "colab": {
          "base_uri": "https://localhost:8080/",
          "height": 407
        }
      },
      "source": [
        "pd.concat([pd.DataFrame(df.isna().sum(), columns=['count']),(pd.DataFrame((df.isna().sum()/df.shape[0])*100, columns=['percentage']))], axis=1)"
      ],
      "execution_count": 5,
      "outputs": [
        {
          "output_type": "execute_result",
          "data": {
            "text/html": [
              "<div>\n",
              "<style scoped>\n",
              "    .dataframe tbody tr th:only-of-type {\n",
              "        vertical-align: middle;\n",
              "    }\n",
              "\n",
              "    .dataframe tbody tr th {\n",
              "        vertical-align: top;\n",
              "    }\n",
              "\n",
              "    .dataframe thead th {\n",
              "        text-align: right;\n",
              "    }\n",
              "</style>\n",
              "<table border=\"1\" class=\"dataframe\">\n",
              "  <thead>\n",
              "    <tr style=\"text-align: right;\">\n",
              "      <th></th>\n",
              "      <th>count</th>\n",
              "      <th>percentage</th>\n",
              "    </tr>\n",
              "  </thead>\n",
              "  <tbody>\n",
              "    <tr>\n",
              "      <th>User_ID</th>\n",
              "      <td>0</td>\n",
              "      <td>0.000000</td>\n",
              "    </tr>\n",
              "    <tr>\n",
              "      <th>Product_ID</th>\n",
              "      <td>0</td>\n",
              "      <td>0.000000</td>\n",
              "    </tr>\n",
              "    <tr>\n",
              "      <th>Gender</th>\n",
              "      <td>0</td>\n",
              "      <td>0.000000</td>\n",
              "    </tr>\n",
              "    <tr>\n",
              "      <th>Age</th>\n",
              "      <td>0</td>\n",
              "      <td>0.000000</td>\n",
              "    </tr>\n",
              "    <tr>\n",
              "      <th>Occupation</th>\n",
              "      <td>0</td>\n",
              "      <td>0.000000</td>\n",
              "    </tr>\n",
              "    <tr>\n",
              "      <th>City_Category</th>\n",
              "      <td>0</td>\n",
              "      <td>0.000000</td>\n",
              "    </tr>\n",
              "    <tr>\n",
              "      <th>Stay_In_Current_City_Years</th>\n",
              "      <td>0</td>\n",
              "      <td>0.000000</td>\n",
              "    </tr>\n",
              "    <tr>\n",
              "      <th>Marital_Status</th>\n",
              "      <td>0</td>\n",
              "      <td>0.000000</td>\n",
              "    </tr>\n",
              "    <tr>\n",
              "      <th>Product_Category_1</th>\n",
              "      <td>0</td>\n",
              "      <td>0.000000</td>\n",
              "    </tr>\n",
              "    <tr>\n",
              "      <th>Product_Category_2</th>\n",
              "      <td>173638</td>\n",
              "      <td>31.566643</td>\n",
              "    </tr>\n",
              "    <tr>\n",
              "      <th>Product_Category_3</th>\n",
              "      <td>383247</td>\n",
              "      <td>69.672659</td>\n",
              "    </tr>\n",
              "    <tr>\n",
              "      <th>Purchase</th>\n",
              "      <td>0</td>\n",
              "      <td>0.000000</td>\n",
              "    </tr>\n",
              "  </tbody>\n",
              "</table>\n",
              "</div>"
            ],
            "text/plain": [
              "                             count  percentage\n",
              "User_ID                          0    0.000000\n",
              "Product_ID                       0    0.000000\n",
              "Gender                           0    0.000000\n",
              "Age                              0    0.000000\n",
              "Occupation                       0    0.000000\n",
              "City_Category                    0    0.000000\n",
              "Stay_In_Current_City_Years       0    0.000000\n",
              "Marital_Status                   0    0.000000\n",
              "Product_Category_1               0    0.000000\n",
              "Product_Category_2          173638   31.566643\n",
              "Product_Category_3          383247   69.672659\n",
              "Purchase                         0    0.000000"
            ]
          },
          "metadata": {
            "tags": []
          },
          "execution_count": 5
        }
      ]
    },
    {
      "cell_type": "code",
      "metadata": {
        "id": "qNyV66k2_qtc",
        "outputId": "395caba5-5004-4711-aceb-25b72ec92743",
        "colab": {
          "base_uri": "https://localhost:8080/",
          "height": 247
        }
      },
      "source": [
        "# what if we drop Product_Category_2 only? How will that affect Product Category 3?\n",
        "df_dum = df.dropna(subset=['Product_Category_2'])\n",
        "df_dum.isna().sum()"
      ],
      "execution_count": 6,
      "outputs": [
        {
          "output_type": "execute_result",
          "data": {
            "text/plain": [
              "User_ID                            0\n",
              "Product_ID                         0\n",
              "Gender                             0\n",
              "Age                                0\n",
              "Occupation                         0\n",
              "City_Category                      0\n",
              "Stay_In_Current_City_Years         0\n",
              "Marital_Status                     0\n",
              "Product_Category_1                 0\n",
              "Product_Category_2                 0\n",
              "Product_Category_3            209609\n",
              "Purchase                           0\n",
              "dtype: int64"
            ]
          },
          "metadata": {
            "tags": []
          },
          "execution_count": 6
        }
      ]
    },
    {
      "cell_type": "markdown",
      "metadata": {
        "id": "cEQqn_SM_JhB"
      },
      "source": [
        "**Possible approach for NaNs**\n",
        "1. If we drop all the nulls,\n",
        "   * we will only be left with 166,821 which is 30% of the original dataset.\n",
        "2. If we drop only Product_Category_2, \n",
        "   * 173, 638 are deducted so it means, those that are null in Product_Category_2 are also null in Product_Category_3\n",
        "3. Replace nulls with 0s\n",
        "   * I'll be trying this approach\n",
        "\n"
      ]
    },
    {
      "cell_type": "code",
      "metadata": {
        "id": "dE5b2Xa1KtSO"
      },
      "source": [
        "df = df.fillna(0)"
      ],
      "execution_count": 7,
      "outputs": []
    },
    {
      "cell_type": "markdown",
      "metadata": {
        "id": "f826eiHIBPJM"
      },
      "source": [
        "2. Are there duplicates? none."
      ]
    },
    {
      "cell_type": "code",
      "metadata": {
        "id": "7svg2b2Pfwvs",
        "outputId": "5be845bd-3d3d-49e8-ae76-10f6546cccba",
        "colab": {
          "base_uri": "https://localhost:8080/",
          "height": 34
        }
      },
      "source": [
        "# are there duplicates?\n",
        "df.duplicated().sum()"
      ],
      "execution_count": 8,
      "outputs": [
        {
          "output_type": "execute_result",
          "data": {
            "text/plain": [
              "0"
            ]
          },
          "metadata": {
            "tags": []
          },
          "execution_count": 8
        }
      ]
    },
    {
      "cell_type": "markdown",
      "metadata": {
        "id": "EPHwZZRPBdnw"
      },
      "source": [
        "3. Convert Product_Category_3"
      ]
    },
    {
      "cell_type": "code",
      "metadata": {
        "id": "3ahIinNCV5Ca",
        "outputId": "46fb4f2e-0a54-46c2-9631-d2959c21a954",
        "colab": {
          "base_uri": "https://localhost:8080/",
          "height": 247
        }
      },
      "source": [
        "# look on unique values per column and number of unique values\n",
        "for col in list(df.columns):\n",
        "  print(col, df[col].unique(), len(df[col].unique()))"
      ],
      "execution_count": 9,
      "outputs": [
        {
          "output_type": "stream",
          "text": [
            "User_ID [1000001 1000002 1000003 ... 1004113 1005391 1001529] 5891\n",
            "Product_ID ['P00069042' 'P00248942' 'P00087842' ... 'P00370293' 'P00371644'\n",
            " 'P00370853'] 3631\n",
            "Gender ['F' 'M'] 2\n",
            "Age ['0-17' '55+' '26-35' '46-50' '51-55' '36-45' '18-25'] 7\n",
            "Occupation [10 16 15  7 20  9  1 12 17  0  3  4 11  8 19  2 18  5 14 13  6] 21\n",
            "City_Category ['A' 'C' 'B'] 3\n",
            "Stay_In_Current_City_Years ['2' '4+' '3' '1' '0'] 5\n",
            "Marital_Status [0 1] 2\n",
            "Product_Category_1 [ 3  1 12  8  5  4  2  6 14 11 13 15  7 16 18 10 17  9 20 19] 20\n",
            "Product_Category_2 [ 0.  6. 14.  2.  8. 15. 16. 11.  5.  3.  4. 12.  9. 10. 17. 13.  7. 18.] 18\n",
            "Product_Category_3 [ 0. 14. 17.  5.  4. 16. 15.  8.  9. 13.  6. 12.  3. 18. 11. 10.] 16\n",
            "Purchase [ 8370 15200  1422 ...   135   123   613] 18105\n"
          ],
          "name": "stdout"
        }
      ]
    },
    {
      "cell_type": "markdown",
      "metadata": {
        "id": "dTBeFL-xCd_i"
      },
      "source": [
        "Product_Category_2 and Product_Category_3 are actually integers. Let's convert them to integers"
      ]
    },
    {
      "cell_type": "code",
      "metadata": {
        "id": "V2vWM1iWHlEv"
      },
      "source": [
        "df = df.astype({'Product_Category_2':'int64', 'Product_Category_3':'int64'})"
      ],
      "execution_count": 10,
      "outputs": []
    },
    {
      "cell_type": "code",
      "metadata": {
        "id": "mFYPnMzvDXDm",
        "outputId": "3316a860-c617-47f2-ded4-1b098ec368d8",
        "colab": {
          "base_uri": "https://localhost:8080/",
          "height": 354
        }
      },
      "source": [
        "df.info() # sanity check"
      ],
      "execution_count": 11,
      "outputs": [
        {
          "output_type": "stream",
          "text": [
            "<class 'pandas.core.frame.DataFrame'>\n",
            "RangeIndex: 550068 entries, 0 to 550067\n",
            "Data columns (total 12 columns):\n",
            " #   Column                      Non-Null Count   Dtype \n",
            "---  ------                      --------------   ----- \n",
            " 0   User_ID                     550068 non-null  int64 \n",
            " 1   Product_ID                  550068 non-null  object\n",
            " 2   Gender                      550068 non-null  object\n",
            " 3   Age                         550068 non-null  object\n",
            " 4   Occupation                  550068 non-null  int64 \n",
            " 5   City_Category               550068 non-null  object\n",
            " 6   Stay_In_Current_City_Years  550068 non-null  object\n",
            " 7   Marital_Status              550068 non-null  int64 \n",
            " 8   Product_Category_1          550068 non-null  int64 \n",
            " 9   Product_Category_2          550068 non-null  int64 \n",
            " 10  Product_Category_3          550068 non-null  int64 \n",
            " 11  Purchase                    550068 non-null  int64 \n",
            "dtypes: int64(7), object(5)\n",
            "memory usage: 50.4+ MB\n"
          ],
          "name": "stdout"
        }
      ]
    },
    {
      "cell_type": "markdown",
      "metadata": {
        "id": "yTtaIvEbD5D5"
      },
      "source": [
        "Other attributes' data type won't be changed for visualization but will be changed for data prep for ML"
      ]
    },
    {
      "cell_type": "markdown",
      "metadata": {
        "id": "972XgoZ7OU2P"
      },
      "source": [
        "# Prepocessing"
      ]
    },
    {
      "cell_type": "code",
      "metadata": {
        "id": "oT6kKaugNlEY",
        "outputId": "73ff0ccf-b3d8-4674-e2a8-ffa941a9fb9a",
        "colab": {
          "base_uri": "https://localhost:8080/",
          "height": 318
        }
      },
      "source": [
        "# let's drop User_ID and Product_ID\n",
        "df_app = df.drop(columns=['User_ID', 'Product_ID'], axis=1)\n",
        "df_app.info()"
      ],
      "execution_count": 12,
      "outputs": [
        {
          "output_type": "stream",
          "text": [
            "<class 'pandas.core.frame.DataFrame'>\n",
            "RangeIndex: 550068 entries, 0 to 550067\n",
            "Data columns (total 10 columns):\n",
            " #   Column                      Non-Null Count   Dtype \n",
            "---  ------                      --------------   ----- \n",
            " 0   Gender                      550068 non-null  object\n",
            " 1   Age                         550068 non-null  object\n",
            " 2   Occupation                  550068 non-null  int64 \n",
            " 3   City_Category               550068 non-null  object\n",
            " 4   Stay_In_Current_City_Years  550068 non-null  object\n",
            " 5   Marital_Status              550068 non-null  int64 \n",
            " 6   Product_Category_1          550068 non-null  int64 \n",
            " 7   Product_Category_2          550068 non-null  int64 \n",
            " 8   Product_Category_3          550068 non-null  int64 \n",
            " 9   Purchase                    550068 non-null  int64 \n",
            "dtypes: int64(6), object(4)\n",
            "memory usage: 42.0+ MB\n"
          ],
          "name": "stdout"
        }
      ]
    },
    {
      "cell_type": "markdown",
      "metadata": {
        "id": "PdW1nZdtR5lG"
      },
      "source": [
        "* Convert to Integer\n",
        " 1. Age\n",
        " 2. Stay_In_Current_Years\n",
        " \n",
        "\n",
        "* Hot Encode\n",
        " 1. Gender\n",
        " 2. City Category"
      ]
    },
    {
      "cell_type": "code",
      "metadata": {
        "id": "YYneIwvZStdz",
        "outputId": "51d9179b-429e-4f62-9bb7-45d650172338",
        "colab": {
          "base_uri": "https://localhost:8080/",
          "height": 52
        }
      },
      "source": [
        "df_app['Age'].unique()"
      ],
      "execution_count": 13,
      "outputs": [
        {
          "output_type": "execute_result",
          "data": {
            "text/plain": [
              "array(['0-17', '55+', '26-35', '46-50', '51-55', '36-45', '18-25'],\n",
              "      dtype=object)"
            ]
          },
          "metadata": {
            "tags": []
          },
          "execution_count": 13
        }
      ]
    },
    {
      "cell_type": "code",
      "metadata": {
        "id": "QJNvMypES0Oc"
      },
      "source": [
        "df_app['Age'] = df_app['Age'].replace(['0-17', '18-25', '26-35', '36-45', '46-50', '51-55', '55+'], [0, 1, 2, 3, 4, 5, 6])"
      ],
      "execution_count": 14,
      "outputs": []
    },
    {
      "cell_type": "code",
      "metadata": {
        "id": "mCdMtMVXTQ-0",
        "outputId": "7a332d65-675c-42a6-a2ef-6afb8a82eaa3",
        "colab": {
          "base_uri": "https://localhost:8080/",
          "height": 34
        }
      },
      "source": [
        "df_app['Age'].unique()"
      ],
      "execution_count": 15,
      "outputs": [
        {
          "output_type": "execute_result",
          "data": {
            "text/plain": [
              "array([0, 6, 2, 4, 5, 3, 1])"
            ]
          },
          "metadata": {
            "tags": []
          },
          "execution_count": 15
        }
      ]
    },
    {
      "cell_type": "code",
      "metadata": {
        "id": "9tOJ0fk1TaAb",
        "outputId": "29e885c6-f3b8-4078-8883-41bf70a2a3a3",
        "colab": {
          "base_uri": "https://localhost:8080/",
          "height": 34
        }
      },
      "source": [
        "df_app['Stay_In_Current_City_Years'].unique()"
      ],
      "execution_count": 16,
      "outputs": [
        {
          "output_type": "execute_result",
          "data": {
            "text/plain": [
              "array(['2', '4+', '3', '1', '0'], dtype=object)"
            ]
          },
          "metadata": {
            "tags": []
          },
          "execution_count": 16
        }
      ]
    },
    {
      "cell_type": "code",
      "metadata": {
        "id": "qQXPSHLTTche"
      },
      "source": [
        "df_app['Stay_In_Current_City_Years'] = df_app['Stay_In_Current_City_Years'].replace('4+', '4')\n",
        "df_app['Stay_In_Current_City_Years'] = df_app['Stay_In_Current_City_Years'].astype('int64')"
      ],
      "execution_count": 17,
      "outputs": []
    },
    {
      "cell_type": "code",
      "metadata": {
        "id": "Uid50WMQT2ac",
        "outputId": "adf3c0bf-945a-41a8-eabd-c6ad1ce4b882",
        "colab": {
          "base_uri": "https://localhost:8080/",
          "height": 34
        }
      },
      "source": [
        "df_app['Stay_In_Current_City_Years'].unique()"
      ],
      "execution_count": 18,
      "outputs": [
        {
          "output_type": "execute_result",
          "data": {
            "text/plain": [
              "array([2, 4, 3, 1, 0])"
            ]
          },
          "metadata": {
            "tags": []
          },
          "execution_count": 18
        }
      ]
    },
    {
      "cell_type": "code",
      "metadata": {
        "id": "9YdwSB4qUA6a",
        "outputId": "fdd0b86f-8858-4238-8236-d6398a2b1cf0",
        "colab": {
          "base_uri": "https://localhost:8080/",
          "height": 318
        }
      },
      "source": [
        "df_app.info()"
      ],
      "execution_count": 19,
      "outputs": [
        {
          "output_type": "stream",
          "text": [
            "<class 'pandas.core.frame.DataFrame'>\n",
            "RangeIndex: 550068 entries, 0 to 550067\n",
            "Data columns (total 10 columns):\n",
            " #   Column                      Non-Null Count   Dtype \n",
            "---  ------                      --------------   ----- \n",
            " 0   Gender                      550068 non-null  object\n",
            " 1   Age                         550068 non-null  int64 \n",
            " 2   Occupation                  550068 non-null  int64 \n",
            " 3   City_Category               550068 non-null  object\n",
            " 4   Stay_In_Current_City_Years  550068 non-null  int64 \n",
            " 5   Marital_Status              550068 non-null  int64 \n",
            " 6   Product_Category_1          550068 non-null  int64 \n",
            " 7   Product_Category_2          550068 non-null  int64 \n",
            " 8   Product_Category_3          550068 non-null  int64 \n",
            " 9   Purchase                    550068 non-null  int64 \n",
            "dtypes: int64(8), object(2)\n",
            "memory usage: 42.0+ MB\n"
          ],
          "name": "stdout"
        }
      ]
    },
    {
      "cell_type": "markdown",
      "metadata": {
        "id": "JYj-D5oUi1vn"
      },
      "source": [
        "# Training and Prediction"
      ]
    },
    {
      "cell_type": "code",
      "metadata": {
        "id": "is2EF0HN3H8A"
      },
      "source": [
        "df_app['Gender'] = df_app['Gender'].replace(['M','F'], [0,1])\n",
        "df_app['City_Category'] = df_app['City_Category'].replace(['A','B', 'C'], [0,1,2])"
      ],
      "execution_count": 20,
      "outputs": []
    },
    {
      "cell_type": "code",
      "metadata": {
        "id": "IqhAND2fyzz4"
      },
      "source": [
        "X = df_app.drop(columns=['Purchase'])\n",
        "y = df_app['Purchase']"
      ],
      "execution_count": 21,
      "outputs": []
    },
    {
      "cell_type": "code",
      "metadata": {
        "id": "3kyQglmg3COw"
      },
      "source": [
        "from sklearn.model_selection import train_test_split\n",
        "\n",
        "X_train, X_val, y_train, y_val = train_test_split(X, y, test_size=0.20, random_state=42)"
      ],
      "execution_count": 22,
      "outputs": []
    },
    {
      "cell_type": "code",
      "metadata": {
        "id": "UAgVr03l4Bww",
        "outputId": "9b90b9c8-422e-49f9-b89a-f1fc794932f0",
        "colab": {
          "base_uri": "https://localhost:8080/",
          "height": 34
        }
      },
      "source": [
        "from sklearn.ensemble import GradientBoostingRegressor\n",
        "\n",
        "model = GradientBoostingRegressor()\n",
        "model.fit(X_train, y_train)\n",
        "y_preds = model.predict(X_val)\n",
        "\n",
        "# RMSE\n",
        "from sklearn.metrics import mean_squared_error\n",
        "np.sqrt(mean_squared_error(y_val, y_preds))"
      ],
      "execution_count": 23,
      "outputs": [
        {
          "output_type": "execute_result",
          "data": {
            "text/plain": [
              "2999.920490442957"
            ]
          },
          "metadata": {
            "tags": []
          },
          "execution_count": 23
        }
      ]
    },
    {
      "cell_type": "code",
      "metadata": {
        "id": "m1RWtjJi4ONh",
        "outputId": "de3505cf-bf79-4e99-a904-4656a2f08d03",
        "colab": {
          "base_uri": "https://localhost:8080/",
          "height": 72
        }
      },
      "source": [
        "import xgboost as xgb\n",
        "\n",
        "model1 = xgb.XGBRegressor(n_jobs=-1, verbose=2)\n",
        "model1.fit(X_train, y_train)\n",
        "y_preds1 = model1.predict(X_val)\n",
        "\n",
        "# RMSE\n",
        "np.sqrt(mean_squared_error(y_val, y_preds1))"
      ],
      "execution_count": 24,
      "outputs": [
        {
          "output_type": "stream",
          "text": [
            "[07:10:27] WARNING: /workspace/src/objective/regression_obj.cu:152: reg:linear is now deprecated in favor of reg:squarederror.\n"
          ],
          "name": "stdout"
        },
        {
          "output_type": "execute_result",
          "data": {
            "text/plain": [
              "2999.5689530805976"
            ]
          },
          "metadata": {
            "tags": []
          },
          "execution_count": 24
        }
      ]
    },
    {
      "cell_type": "code",
      "metadata": {
        "id": "9C2V_ymI4eqt",
        "outputId": "62ad290c-b1f2-4836-d90a-934b5bf2eb71",
        "colab": {
          "base_uri": "https://localhost:8080/",
          "height": 1000
        }
      },
      "source": [
        "from sklearn.ensemble import RandomForestRegressor\n",
        "\n",
        "model2 = RandomForestRegressor(n_jobs=-1, verbose=2)\n",
        "model2.fit(X_train, y_train)\n",
        "y_preds2 = model2.predict(X_val)\n",
        "\n",
        "# RMSE\n",
        "np.sqrt(mean_squared_error(y_val, y_preds2))"
      ],
      "execution_count": 27,
      "outputs": [
        {
          "output_type": "stream",
          "text": [
            "[Parallel(n_jobs=-1)]: Using backend ThreadingBackend with 2 concurrent workers.\n"
          ],
          "name": "stderr"
        },
        {
          "output_type": "stream",
          "text": [
            "building tree 1 of 100building tree 2 of 100\n",
            "\n",
            "building tree 3 of 100\n",
            "building tree 4 of 100\n",
            "building tree 5 of 100\n",
            "building tree 6 of 100\n",
            "building tree 7 of 100\n",
            "building tree 8 of 100\n",
            "building tree 9 of 100\n",
            "building tree 10 of 100\n",
            "building tree 11 of 100\n",
            "building tree 12 of 100\n",
            "building tree 13 of 100\n",
            "building tree 14 of 100\n",
            "building tree 15 of 100\n",
            "building tree 16 of 100\n",
            "building tree 17 of 100\n",
            "building tree 18 of 100\n",
            "building tree 19 of 100\n",
            "building tree 20 of 100\n",
            "building tree 21 of 100\n",
            "building tree 22 of 100\n",
            "building tree 23 of 100\n",
            "building tree 24 of 100\n",
            "building tree 25 of 100\n",
            "building tree 26 of 100\n",
            "building tree 27 of 100\n",
            "building tree 28 of 100\n",
            "building tree 29 of 100\n",
            "building tree 30 of 100\n",
            "building tree 31 of 100\n",
            "building tree 32 of 100\n",
            "building tree 33 of 100\n",
            "building tree 34 of 100\n",
            "building tree 35 of 100\n",
            "building tree 36 of 100\n",
            "building tree 37 of 100\n",
            "building tree 38 of 100\n"
          ],
          "name": "stdout"
        },
        {
          "output_type": "stream",
          "text": [
            "[Parallel(n_jobs=-1)]: Done  37 tasks      | elapsed:   39.3s\n"
          ],
          "name": "stderr"
        },
        {
          "output_type": "stream",
          "text": [
            "building tree 39 of 100\n",
            "building tree 40 of 100\n",
            "building tree 41 of 100\n",
            "building tree 42 of 100\n",
            "building tree 43 of 100\n",
            "building tree 44 of 100\n",
            "building tree 45 of 100\n",
            "building tree 46 of 100\n",
            "building tree 47 of 100\n",
            "building tree 48 of 100\n",
            "building tree 49 of 100\n",
            "building tree 50 of 100\n",
            "building tree 51 of 100\n",
            "building tree 52 of 100\n",
            "building tree 53 of 100\n",
            "building tree 54 of 100\n",
            "building tree 55 of 100\n",
            "building tree 56 of 100\n",
            "building tree 57 of 100\n",
            "building tree 58 of 100\n",
            "building tree 59 of 100\n",
            "building tree 60 of 100\n",
            "building tree 61 of 100\n",
            "building tree 62 of 100\n",
            "building tree 63 of 100\n",
            "building tree 64 of 100\n",
            "building tree 65 of 100\n",
            "building tree 66 of 100\n",
            "building tree 67 of 100\n",
            "building tree 68 of 100\n",
            "building tree 69 of 100\n",
            "building tree 70 of 100\n",
            "building tree 71 of 100\n",
            "building tree 72 of 100\n",
            "building tree 73 of 100\n",
            "building tree 74 of 100\n",
            "building tree 75 of 100\n",
            "building tree 76 of 100\n",
            "building tree 77 of 100\n",
            "building tree 78 of 100\n",
            "building tree 79 of 100\n",
            "building tree 80 of 100\n",
            "building tree 81 of 100\n",
            "building tree 82 of 100\n",
            "building tree 83 of 100\n",
            "building tree 84 of 100\n",
            "building tree 85 of 100\n",
            "building tree 86 of 100\n",
            "building tree 87 of 100\n",
            "building tree 88 of 100\n",
            "building tree 89 of 100\n",
            "building tree 90 of 100\n",
            "building tree 91 of 100\n",
            "building tree 92 of 100\n",
            "building tree 93 of 100\n",
            "building tree 94 of 100\n",
            "building tree 95 of 100\n",
            "building tree 96 of 100\n",
            "building tree 97 of 100\n",
            "building tree 98 of 100\n",
            "building tree 99 of 100\n",
            "building tree 100 of 100\n"
          ],
          "name": "stdout"
        },
        {
          "output_type": "stream",
          "text": [
            "[Parallel(n_jobs=-1)]: Done 100 out of 100 | elapsed:  1.7min finished\n",
            "[Parallel(n_jobs=2)]: Using backend ThreadingBackend with 2 concurrent workers.\n",
            "[Parallel(n_jobs=2)]: Done  37 tasks      | elapsed:    1.2s\n",
            "[Parallel(n_jobs=2)]: Done 100 out of 100 | elapsed:    3.1s finished\n"
          ],
          "name": "stderr"
        },
        {
          "output_type": "execute_result",
          "data": {
            "text/plain": [
              "3062.170833414663"
            ]
          },
          "metadata": {
            "tags": []
          },
          "execution_count": 27
        }
      ]
    }
  ]
}