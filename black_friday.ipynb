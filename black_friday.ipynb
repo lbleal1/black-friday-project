{
  "nbformat": 4,
  "nbformat_minor": 0,
  "metadata": {
    "colab": {
      "name": "sol1-black-friday.ipynb",
      "provenance": [],
      "collapsed_sections": [],
      "toc_visible": true
    },
    "kernelspec": {
      "name": "python3",
      "display_name": "Python 3"
    }
  },
  "cells": [
    {
      "cell_type": "markdown",
      "metadata": {
        "id": "QXXeI6lhR43l"
      },
      "source": [
        "# Set-up"
      ]
    },
    {
      "cell_type": "code",
      "metadata": {
        "id": "MWORjbxcRuTT"
      },
      "source": [
        "import pandas as pd\n",
        "import numpy as np\n",
        "import matplotlib.pyplot as plt\n",
        "import seaborn as sns\n",
        "\n",
        "import os\n"
      ],
      "execution_count": 1,
      "outputs": []
    },
    {
      "cell_type": "code",
      "metadata": {
        "id": "-aSq7ThhSBQC"
      },
      "source": [
        "DIR = '/content/drive/My Drive/ml-mini-projects/black-friday'"
      ],
      "execution_count": 2,
      "outputs": []
    },
    {
      "cell_type": "markdown",
      "metadata": {
        "id": "Nus2xI5cFvDJ"
      },
      "source": [
        "# Framing of the Problem"
      ]
    },
    {
      "cell_type": "markdown",
      "metadata": {
        "id": "5WW4thk7GFAD"
      },
      "source": [
        "## Challenge:\n",
        "\n",
        "The following dataset contains information from stores on a Black Friday, which sometimes refer to the Thanksgiving Friday in the US. You are tasked to build a model to predict the purchase amount of customers against various products.\n",
        "\n",
        "**Evaluation Metric:** RMSE <br>\n",
        "**Top scorer score:** 2372.0034421821\n",
        "\n",
        "**Notes:** <br>\n",
        "This challenge and dataset was sourced from [Analytics Vidhya](https://datahack.analyticsvidhya.com/contest/black-friday/?utm_source=facebook.com&utm_medium=social)\n"
      ]
    },
    {
      "cell_type": "markdown",
      "metadata": {
        "id": "Jn6aysbo4d4Q"
      },
      "source": [
        "**Approach:** Regression Problem"
      ]
    },
    {
      "cell_type": "markdown",
      "metadata": {
        "id": "d8_H6KTeSQBV"
      },
      "source": [
        "# Taking Quick Glances"
      ]
    },
    {
      "cell_type": "code",
      "metadata": {
        "id": "7Y8Wg5f3UE8P"
      },
      "source": [
        "df = pd.read_csv(os.path.join(DIR, 'train.csv'))"
      ],
      "execution_count": 3,
      "outputs": []
    },
    {
      "cell_type": "code",
      "metadata": {
        "id": "nMv_HWjpUfaa",
        "outputId": "646dba4b-26bc-4216-e310-b87dab232de2",
        "colab": {
          "base_uri": "https://localhost:8080/",
          "height": 354
        }
      },
      "source": [
        "df.info()"
      ],
      "execution_count": 4,
      "outputs": [
        {
          "output_type": "stream",
          "text": [
            "<class 'pandas.core.frame.DataFrame'>\n",
            "RangeIndex: 550068 entries, 0 to 550067\n",
            "Data columns (total 12 columns):\n",
            " #   Column                      Non-Null Count   Dtype  \n",
            "---  ------                      --------------   -----  \n",
            " 0   User_ID                     550068 non-null  int64  \n",
            " 1   Product_ID                  550068 non-null  object \n",
            " 2   Gender                      550068 non-null  object \n",
            " 3   Age                         550068 non-null  object \n",
            " 4   Occupation                  550068 non-null  int64  \n",
            " 5   City_Category               550068 non-null  object \n",
            " 6   Stay_In_Current_City_Years  550068 non-null  object \n",
            " 7   Marital_Status              550068 non-null  int64  \n",
            " 8   Product_Category_1          550068 non-null  int64  \n",
            " 9   Product_Category_2          376430 non-null  float64\n",
            " 10  Product_Category_3          166821 non-null  float64\n",
            " 11  Purchase                    550068 non-null  int64  \n",
            "dtypes: float64(2), int64(5), object(5)\n",
            "memory usage: 50.4+ MB\n"
          ],
          "name": "stdout"
        }
      ]
    },
    {
      "cell_type": "markdown",
      "metadata": {
        "id": "KQGS5sem4y4c"
      },
      "source": [
        "**Observations:**\n",
        "* It has a total of 550, 068 entries with 12 columns\n",
        "   * Not so many features. Let's not do feature selection first\n",
        "* Data types\n",
        "   * User_ID, Product_ID \n",
        "      * not sure if this will help; try dropping\n",
        "   * Gender, City Category as strings\n",
        "      * hot encode this\n",
        "   * Age, Stay In Current City Years are unexpectedly written as strings\n",
        "      * Label Encoding - try converting to int or float (check unique values to decide)\n",
        "   * Occupation is int (so already label encoded)\n",
        "      * This may be placed for a reason. Let's try using this before hot encoding\n",
        "   * Marital Status is already in its correct form\n",
        "   * Product Category 1 and 2 are ints and 3 are floats.\n",
        "      * can we convert Product Category 3 as int too?\n",
        "      * also let's try to use this(label encoded) before doing one-hot\n",
        "   * Purchase\n",
        "      * does this represent the actual or in thousands or what? (no info to verify this)\n",
        "* Nulls\n",
        "   * Product Category 2 and 3 have many nulls\n"
      ]
    },
    {
      "cell_type": "markdown",
      "metadata": {
        "id": "ExUBEH0W73DG"
      },
      "source": [
        "1. Let's first deal with the nulls"
      ]
    },
    {
      "cell_type": "code",
      "metadata": {
        "id": "qmyIrteqUpUl",
        "outputId": "cdb93eb6-366f-47cf-80d8-3727d07d4aa2",
        "colab": {
          "base_uri": "https://localhost:8080/",
          "height": 407
        }
      },
      "source": [
        "pd.concat([pd.DataFrame(df.isna().sum(), columns=['count']),(pd.DataFrame((df.isna().sum()/df.shape[0])*100, columns=['percentage']))], axis=1)"
      ],
      "execution_count": 5,
      "outputs": [
        {
          "output_type": "execute_result",
          "data": {
            "text/html": [
              "<div>\n",
              "<style scoped>\n",
              "    .dataframe tbody tr th:only-of-type {\n",
              "        vertical-align: middle;\n",
              "    }\n",
              "\n",
              "    .dataframe tbody tr th {\n",
              "        vertical-align: top;\n",
              "    }\n",
              "\n",
              "    .dataframe thead th {\n",
              "        text-align: right;\n",
              "    }\n",
              "</style>\n",
              "<table border=\"1\" class=\"dataframe\">\n",
              "  <thead>\n",
              "    <tr style=\"text-align: right;\">\n",
              "      <th></th>\n",
              "      <th>count</th>\n",
              "      <th>percentage</th>\n",
              "    </tr>\n",
              "  </thead>\n",
              "  <tbody>\n",
              "    <tr>\n",
              "      <th>User_ID</th>\n",
              "      <td>0</td>\n",
              "      <td>0.000000</td>\n",
              "    </tr>\n",
              "    <tr>\n",
              "      <th>Product_ID</th>\n",
              "      <td>0</td>\n",
              "      <td>0.000000</td>\n",
              "    </tr>\n",
              "    <tr>\n",
              "      <th>Gender</th>\n",
              "      <td>0</td>\n",
              "      <td>0.000000</td>\n",
              "    </tr>\n",
              "    <tr>\n",
              "      <th>Age</th>\n",
              "      <td>0</td>\n",
              "      <td>0.000000</td>\n",
              "    </tr>\n",
              "    <tr>\n",
              "      <th>Occupation</th>\n",
              "      <td>0</td>\n",
              "      <td>0.000000</td>\n",
              "    </tr>\n",
              "    <tr>\n",
              "      <th>City_Category</th>\n",
              "      <td>0</td>\n",
              "      <td>0.000000</td>\n",
              "    </tr>\n",
              "    <tr>\n",
              "      <th>Stay_In_Current_City_Years</th>\n",
              "      <td>0</td>\n",
              "      <td>0.000000</td>\n",
              "    </tr>\n",
              "    <tr>\n",
              "      <th>Marital_Status</th>\n",
              "      <td>0</td>\n",
              "      <td>0.000000</td>\n",
              "    </tr>\n",
              "    <tr>\n",
              "      <th>Product_Category_1</th>\n",
              "      <td>0</td>\n",
              "      <td>0.000000</td>\n",
              "    </tr>\n",
              "    <tr>\n",
              "      <th>Product_Category_2</th>\n",
              "      <td>173638</td>\n",
              "      <td>31.566643</td>\n",
              "    </tr>\n",
              "    <tr>\n",
              "      <th>Product_Category_3</th>\n",
              "      <td>383247</td>\n",
              "      <td>69.672659</td>\n",
              "    </tr>\n",
              "    <tr>\n",
              "      <th>Purchase</th>\n",
              "      <td>0</td>\n",
              "      <td>0.000000</td>\n",
              "    </tr>\n",
              "  </tbody>\n",
              "</table>\n",
              "</div>"
            ],
            "text/plain": [
              "                             count  percentage\n",
              "User_ID                          0    0.000000\n",
              "Product_ID                       0    0.000000\n",
              "Gender                           0    0.000000\n",
              "Age                              0    0.000000\n",
              "Occupation                       0    0.000000\n",
              "City_Category                    0    0.000000\n",
              "Stay_In_Current_City_Years       0    0.000000\n",
              "Marital_Status                   0    0.000000\n",
              "Product_Category_1               0    0.000000\n",
              "Product_Category_2          173638   31.566643\n",
              "Product_Category_3          383247   69.672659\n",
              "Purchase                         0    0.000000"
            ]
          },
          "metadata": {
            "tags": []
          },
          "execution_count": 5
        }
      ]
    },
    {
      "cell_type": "code",
      "metadata": {
        "id": "qNyV66k2_qtc",
        "outputId": "fea96a4d-afe6-4e28-9220-2d5f2eab3086",
        "colab": {
          "base_uri": "https://localhost:8080/",
          "height": 247
        }
      },
      "source": [
        "# what if we drop Product_Category_2 only? How will that affect Product Category 3?\n",
        "df_dum = df.dropna(subset=['Product_Category_2'])\n",
        "df_dum.isna().sum()"
      ],
      "execution_count": 6,
      "outputs": [
        {
          "output_type": "execute_result",
          "data": {
            "text/plain": [
              "User_ID                            0\n",
              "Product_ID                         0\n",
              "Gender                             0\n",
              "Age                                0\n",
              "Occupation                         0\n",
              "City_Category                      0\n",
              "Stay_In_Current_City_Years         0\n",
              "Marital_Status                     0\n",
              "Product_Category_1                 0\n",
              "Product_Category_2                 0\n",
              "Product_Category_3            209609\n",
              "Purchase                           0\n",
              "dtype: int64"
            ]
          },
          "metadata": {
            "tags": []
          },
          "execution_count": 6
        }
      ]
    },
    {
      "cell_type": "markdown",
      "metadata": {
        "id": "cEQqn_SM_JhB"
      },
      "source": [
        "**Possible approach for NaNs**\n",
        "1. If we drop all the nulls,\n",
        "   * we will only be left with 166,821 which is 30% of the original dataset.\n",
        "2. If we drop only Product_Category_2, \n",
        "   * 173, 638 are deducted so it means, those that are null in Product_Category_2 are also null in Product_Category_3\n",
        "3. Replace nulls with 0s\n",
        "   * I'll be trying this approach\n",
        "\n"
      ]
    },
    {
      "cell_type": "code",
      "metadata": {
        "id": "dE5b2Xa1KtSO"
      },
      "source": [
        "df = df.fillna(0)"
      ],
      "execution_count": 7,
      "outputs": []
    },
    {
      "cell_type": "markdown",
      "metadata": {
        "id": "f826eiHIBPJM"
      },
      "source": [
        "2. Are there duplicates? none."
      ]
    },
    {
      "cell_type": "code",
      "metadata": {
        "id": "7svg2b2Pfwvs",
        "outputId": "264e0c5f-835e-446a-b455-3b4751096697",
        "colab": {
          "base_uri": "https://localhost:8080/",
          "height": 34
        }
      },
      "source": [
        "# are there duplicates?\n",
        "df.duplicated().sum()"
      ],
      "execution_count": 8,
      "outputs": [
        {
          "output_type": "execute_result",
          "data": {
            "text/plain": [
              "0"
            ]
          },
          "metadata": {
            "tags": []
          },
          "execution_count": 8
        }
      ]
    },
    {
      "cell_type": "markdown",
      "metadata": {
        "id": "EPHwZZRPBdnw"
      },
      "source": [
        "3. Convert Product_Category_3"
      ]
    },
    {
      "cell_type": "code",
      "metadata": {
        "id": "3ahIinNCV5Ca",
        "outputId": "2182c437-a3a0-4cb8-898d-c2f2afa1cee4",
        "colab": {
          "base_uri": "https://localhost:8080/",
          "height": 247
        }
      },
      "source": [
        "# look on unique values per column and number of unique values\n",
        "for col in list(df.columns):\n",
        "  print(col, df[col].unique(), len(df[col].unique()))"
      ],
      "execution_count": 9,
      "outputs": [
        {
          "output_type": "stream",
          "text": [
            "User_ID [1000001 1000002 1000003 ... 1004113 1005391 1001529] 5891\n",
            "Product_ID ['P00069042' 'P00248942' 'P00087842' ... 'P00370293' 'P00371644'\n",
            " 'P00370853'] 3631\n",
            "Gender ['F' 'M'] 2\n",
            "Age ['0-17' '55+' '26-35' '46-50' '51-55' '36-45' '18-25'] 7\n",
            "Occupation [10 16 15  7 20  9  1 12 17  0  3  4 11  8 19  2 18  5 14 13  6] 21\n",
            "City_Category ['A' 'C' 'B'] 3\n",
            "Stay_In_Current_City_Years ['2' '4+' '3' '1' '0'] 5\n",
            "Marital_Status [0 1] 2\n",
            "Product_Category_1 [ 3  1 12  8  5  4  2  6 14 11 13 15  7 16 18 10 17  9 20 19] 20\n",
            "Product_Category_2 [ 0.  6. 14.  2.  8. 15. 16. 11.  5.  3.  4. 12.  9. 10. 17. 13.  7. 18.] 18\n",
            "Product_Category_3 [ 0. 14. 17.  5.  4. 16. 15.  8.  9. 13.  6. 12.  3. 18. 11. 10.] 16\n",
            "Purchase [ 8370 15200  1422 ...   135   123   613] 18105\n"
          ],
          "name": "stdout"
        }
      ]
    },
    {
      "cell_type": "markdown",
      "metadata": {
        "id": "dTBeFL-xCd_i"
      },
      "source": [
        "Product_Category_2 and Product_Category_3 are actually integers. Let's convert them to integers"
      ]
    },
    {
      "cell_type": "code",
      "metadata": {
        "id": "V2vWM1iWHlEv"
      },
      "source": [
        "df = df.astype({'Product_Category_2':'int64', 'Product_Category_3':'int64'})"
      ],
      "execution_count": 10,
      "outputs": []
    },
    {
      "cell_type": "code",
      "metadata": {
        "id": "mFYPnMzvDXDm",
        "outputId": "a44150ef-1f9f-4349-dd4c-434607119472",
        "colab": {
          "base_uri": "https://localhost:8080/",
          "height": 354
        }
      },
      "source": [
        "df.info() # sanity check"
      ],
      "execution_count": 11,
      "outputs": [
        {
          "output_type": "stream",
          "text": [
            "<class 'pandas.core.frame.DataFrame'>\n",
            "RangeIndex: 550068 entries, 0 to 550067\n",
            "Data columns (total 12 columns):\n",
            " #   Column                      Non-Null Count   Dtype \n",
            "---  ------                      --------------   ----- \n",
            " 0   User_ID                     550068 non-null  int64 \n",
            " 1   Product_ID                  550068 non-null  object\n",
            " 2   Gender                      550068 non-null  object\n",
            " 3   Age                         550068 non-null  object\n",
            " 4   Occupation                  550068 non-null  int64 \n",
            " 5   City_Category               550068 non-null  object\n",
            " 6   Stay_In_Current_City_Years  550068 non-null  object\n",
            " 7   Marital_Status              550068 non-null  int64 \n",
            " 8   Product_Category_1          550068 non-null  int64 \n",
            " 9   Product_Category_2          550068 non-null  int64 \n",
            " 10  Product_Category_3          550068 non-null  int64 \n",
            " 11  Purchase                    550068 non-null  int64 \n",
            "dtypes: int64(7), object(5)\n",
            "memory usage: 50.4+ MB\n"
          ],
          "name": "stdout"
        }
      ]
    },
    {
      "cell_type": "markdown",
      "metadata": {
        "id": "yTtaIvEbD5D5"
      },
      "source": [
        "Other attributes' data type won't be changed for visualization but will be changed for data prep for ML"
      ]
    },
    {
      "cell_type": "markdown",
      "metadata": {
        "id": "972XgoZ7OU2P"
      },
      "source": [
        "# Prepocessing"
      ]
    },
    {
      "cell_type": "code",
      "metadata": {
        "id": "oT6kKaugNlEY",
        "outputId": "2717477b-0dae-4bec-b506-84f0e9b5d482",
        "colab": {
          "base_uri": "https://localhost:8080/",
          "height": 318
        }
      },
      "source": [
        "# let's drop User_ID and Product_ID\n",
        "df_app = df.drop(columns=['User_ID', 'Product_ID'], axis=1)\n",
        "df_app.info()"
      ],
      "execution_count": 12,
      "outputs": [
        {
          "output_type": "stream",
          "text": [
            "<class 'pandas.core.frame.DataFrame'>\n",
            "RangeIndex: 550068 entries, 0 to 550067\n",
            "Data columns (total 10 columns):\n",
            " #   Column                      Non-Null Count   Dtype \n",
            "---  ------                      --------------   ----- \n",
            " 0   Gender                      550068 non-null  object\n",
            " 1   Age                         550068 non-null  object\n",
            " 2   Occupation                  550068 non-null  int64 \n",
            " 3   City_Category               550068 non-null  object\n",
            " 4   Stay_In_Current_City_Years  550068 non-null  object\n",
            " 5   Marital_Status              550068 non-null  int64 \n",
            " 6   Product_Category_1          550068 non-null  int64 \n",
            " 7   Product_Category_2          550068 non-null  int64 \n",
            " 8   Product_Category_3          550068 non-null  int64 \n",
            " 9   Purchase                    550068 non-null  int64 \n",
            "dtypes: int64(6), object(4)\n",
            "memory usage: 42.0+ MB\n"
          ],
          "name": "stdout"
        }
      ]
    },
    {
      "cell_type": "markdown",
      "metadata": {
        "id": "PdW1nZdtR5lG"
      },
      "source": [
        "* Convert to Integer\n",
        " 1. Age\n",
        " 2. Stay_In_Current_Years\n",
        " \n",
        "\n",
        "* Hot Encode\n",
        " 1. Gender\n",
        " 2. City Category"
      ]
    },
    {
      "cell_type": "code",
      "metadata": {
        "id": "YYneIwvZStdz",
        "outputId": "8a826b37-85c6-4fe9-ba35-63054d5a73fb",
        "colab": {
          "base_uri": "https://localhost:8080/",
          "height": 52
        }
      },
      "source": [
        "df_app['Age'].unique()"
      ],
      "execution_count": 13,
      "outputs": [
        {
          "output_type": "execute_result",
          "data": {
            "text/plain": [
              "array(['0-17', '55+', '26-35', '46-50', '51-55', '36-45', '18-25'],\n",
              "      dtype=object)"
            ]
          },
          "metadata": {
            "tags": []
          },
          "execution_count": 13
        }
      ]
    },
    {
      "cell_type": "code",
      "metadata": {
        "id": "QJNvMypES0Oc"
      },
      "source": [
        "df_app['Age'] = df_app['Age'].replace(['0-17', '18-25', '26-35', '36-45', '46-50', '51-55', '55+'], [0, 1, 2, 3, 4, 5, 6])"
      ],
      "execution_count": 14,
      "outputs": []
    },
    {
      "cell_type": "code",
      "metadata": {
        "id": "mCdMtMVXTQ-0",
        "outputId": "128cc04f-a8ae-442f-cfde-7cc2a21cbd77",
        "colab": {
          "base_uri": "https://localhost:8080/",
          "height": 34
        }
      },
      "source": [
        "df_app['Age'].unique()"
      ],
      "execution_count": 15,
      "outputs": [
        {
          "output_type": "execute_result",
          "data": {
            "text/plain": [
              "array([0, 6, 2, 4, 5, 3, 1])"
            ]
          },
          "metadata": {
            "tags": []
          },
          "execution_count": 15
        }
      ]
    },
    {
      "cell_type": "code",
      "metadata": {
        "id": "9tOJ0fk1TaAb",
        "outputId": "d54f4621-21f3-4c80-e25a-e92858d226d6",
        "colab": {
          "base_uri": "https://localhost:8080/",
          "height": 34
        }
      },
      "source": [
        "df_app['Stay_In_Current_City_Years'].unique()"
      ],
      "execution_count": 16,
      "outputs": [
        {
          "output_type": "execute_result",
          "data": {
            "text/plain": [
              "array(['2', '4+', '3', '1', '0'], dtype=object)"
            ]
          },
          "metadata": {
            "tags": []
          },
          "execution_count": 16
        }
      ]
    },
    {
      "cell_type": "code",
      "metadata": {
        "id": "qQXPSHLTTche"
      },
      "source": [
        "df_app['Stay_In_Current_City_Years'] = df_app['Stay_In_Current_City_Years'].replace('4+', '4')\n",
        "df_app['Stay_In_Current_City_Years'] = df_app['Stay_In_Current_City_Years'].astype('int64')"
      ],
      "execution_count": 17,
      "outputs": []
    },
    {
      "cell_type": "code",
      "metadata": {
        "id": "Uid50WMQT2ac",
        "outputId": "6064c0a0-355c-4b7e-8fe6-e584a0d2213a",
        "colab": {
          "base_uri": "https://localhost:8080/",
          "height": 34
        }
      },
      "source": [
        "df_app['Stay_In_Current_City_Years'].unique()"
      ],
      "execution_count": 18,
      "outputs": [
        {
          "output_type": "execute_result",
          "data": {
            "text/plain": [
              "array([2, 4, 3, 1, 0])"
            ]
          },
          "metadata": {
            "tags": []
          },
          "execution_count": 18
        }
      ]
    },
    {
      "cell_type": "code",
      "metadata": {
        "id": "9YdwSB4qUA6a",
        "outputId": "f7836b7c-8ad0-4165-a0e2-165b1f16689b",
        "colab": {
          "base_uri": "https://localhost:8080/",
          "height": 318
        }
      },
      "source": [
        "df_app.info()"
      ],
      "execution_count": 19,
      "outputs": [
        {
          "output_type": "stream",
          "text": [
            "<class 'pandas.core.frame.DataFrame'>\n",
            "RangeIndex: 550068 entries, 0 to 550067\n",
            "Data columns (total 10 columns):\n",
            " #   Column                      Non-Null Count   Dtype \n",
            "---  ------                      --------------   ----- \n",
            " 0   Gender                      550068 non-null  object\n",
            " 1   Age                         550068 non-null  int64 \n",
            " 2   Occupation                  550068 non-null  int64 \n",
            " 3   City_Category               550068 non-null  object\n",
            " 4   Stay_In_Current_City_Years  550068 non-null  int64 \n",
            " 5   Marital_Status              550068 non-null  int64 \n",
            " 6   Product_Category_1          550068 non-null  int64 \n",
            " 7   Product_Category_2          550068 non-null  int64 \n",
            " 8   Product_Category_3          550068 non-null  int64 \n",
            " 9   Purchase                    550068 non-null  int64 \n",
            "dtypes: int64(8), object(2)\n",
            "memory usage: 42.0+ MB\n"
          ],
          "name": "stdout"
        }
      ]
    },
    {
      "cell_type": "markdown",
      "metadata": {
        "id": "JYj-D5oUi1vn"
      },
      "source": [
        "# Training and Prediction"
      ]
    },
    {
      "cell_type": "code",
      "metadata": {
        "id": "IqhAND2fyzz4"
      },
      "source": [
        "from sklearn.model_selection import train_test_split \n",
        "from scipy import stats\n",
        "\n",
        "X = df_app.drop(columns=['Purchase'])\n",
        "y = df_app['Purchase']\n",
        "#y = stats.boxcox(df_app['Purchase'])[0]"
      ],
      "execution_count": 20,
      "outputs": []
    },
    {
      "cell_type": "code",
      "metadata": {
        "id": "3kyQglmg3COw"
      },
      "source": [
        "from sklearn.model_selection import train_test_split\n",
        "\n",
        "X_train, X_val, y_train, y_val = train_test_split(X, y, test_size=0.20, random_state=42)"
      ],
      "execution_count": 21,
      "outputs": []
    },
    {
      "cell_type": "code",
      "metadata": {
        "id": "LUqsY6D7nVh0"
      },
      "source": [
        "y_train = stats.boxcox(y_train)[0]"
      ],
      "execution_count": 22,
      "outputs": []
    },
    {
      "cell_type": "code",
      "metadata": {
        "id": "fFWsQXS0-IKo"
      },
      "source": [
        "from sklearn.pipeline import Pipeline\n",
        "from sklearn.preprocessing import OneHotEncoder, LabelEncoder\n",
        "from sklearn.compose import ColumnTransformer\n",
        "from sklearn.impute import SimpleImputer\n",
        "from sklearn.ensemble import RandomForestRegressor\n",
        "\n",
        "ord_cols = ['Product_Category_2', 'Product_Category_3']\n",
        "ord_transformer = SimpleImputer(missing_values=np.nan, strategy=\"constant\", fill_value=0)\n",
        "\n",
        "nom_cols = ['Gender', 'City_Category']\n",
        "nom_transformer = OneHotEncoder()\n",
        "\n",
        "preprocessor = ColumnTransformer([\n",
        "                                    ('ord_cat', ord_transformer, ord_cols),\n",
        "                                    ('nom_cat', nom_transformer, nom_cols)\n",
        "])\n",
        "\n"
      ],
      "execution_count": 23,
      "outputs": []
    },
    {
      "cell_type": "code",
      "metadata": {
        "id": "mMilFz81PCab"
      },
      "source": [
        "import xgboost as xgb\n",
        "from sklearn.ensemble import GradientBoostingRegressor\n",
        "\n",
        "#model = RandomForestRegressor( n_estimators=130, random_state=42, n_jobs=-1, verbose = 2, max_depth = 5)\n",
        "#model = xgb.XGBRegressor(objective ='reg:linear', colsample_bytree = 0.3, learning_rate = 1,\n",
        "#               max_depth = 10, alpha = 5, n_estimators = 200, n_jobs=-1, verbose=2)\n",
        "model = GradientBoostingRegressor(n_estimators=100, max_depth=10, learning_rate=0.1,tol=5, verbose=2)"
      ],
      "execution_count": 24,
      "outputs": []
    },
    {
      "cell_type": "code",
      "metadata": {
        "id": "ufd0NxzWzizi"
      },
      "source": [
        "reg = Pipeline([\n",
        "                ('preprocessor', preprocessor),\n",
        "                ('model', model),\n",
        "])"
      ],
      "execution_count": 25,
      "outputs": []
    },
    {
      "cell_type": "code",
      "metadata": {
        "id": "HY6S3e0j3Sbx",
        "outputId": "3b462908-9d3e-420c-8e04-2959f3300ed6",
        "colab": {
          "base_uri": "https://localhost:8080/",
          "height": 1000
        }
      },
      "source": [
        "reg.fit(X_train, y_train)"
      ],
      "execution_count": 26,
      "outputs": [
        {
          "output_type": "stream",
          "text": [
            "      Iter       Train Loss   Remaining Time \n",
            "         1        7894.5540           52.22s\n",
            "         2        7623.1977           52.65s\n",
            "         3        7394.9185           51.99s\n",
            "         4        7210.0721           51.05s\n",
            "         5        7060.1613           50.99s\n",
            "         6        6942.8183           50.02s\n",
            "         7        6847.7346           49.38s\n",
            "         8        6766.3771           48.76s\n",
            "         9        6700.3661           48.39s\n",
            "        10        6646.8798           47.66s\n",
            "        11        6603.5354           47.12s\n",
            "        12        6569.9648           46.62s\n",
            "        13        6541.0220           46.11s\n",
            "        14        6517.3722           45.63s\n",
            "        15        6498.3341           45.16s\n",
            "        16        6482.7779           44.63s\n",
            "        17        6470.1913           44.08s\n",
            "        18        6460.0902           43.55s\n",
            "        19        6451.7768           42.95s\n",
            "        20        6445.0651           42.46s\n",
            "        21        6439.5291           41.97s\n",
            "        22        6435.0607           41.46s\n",
            "        23        6431.3570           40.89s\n",
            "        24        6428.3265           40.34s\n",
            "        25        6425.9053           39.85s\n",
            "        26        6423.8908           39.25s\n",
            "        27        6422.1831           38.71s\n",
            "        28        6420.8290           38.19s\n",
            "        29        6419.5877           37.59s\n",
            "        30        6418.5784           37.01s\n",
            "        31        6417.7826           36.46s\n",
            "        32        6417.1049           35.85s\n",
            "        33        6416.5495           35.28s\n",
            "        34        6416.0968           34.69s\n",
            "        35        6415.7032           34.08s\n",
            "        36        6415.4135           33.54s\n",
            "        37        6415.1315           32.97s\n",
            "        38        6414.8959           32.38s\n",
            "        39        6414.7046           31.83s\n",
            "        40        6414.5503           31.25s\n",
            "        41        6414.4113           30.71s\n",
            "        42        6414.3023           30.15s\n",
            "        43        6414.2103           29.64s\n",
            "        44        6414.1259           29.08s\n",
            "        45        6414.0560           28.52s\n",
            "        46        6414.0003           27.97s\n",
            "        47        6413.9483           27.42s\n",
            "        48        6413.9076           26.86s\n",
            "        49        6413.8669           26.34s\n",
            "        50        6413.8225           25.83s\n",
            "        51        6413.7900           25.29s\n",
            "        52        6413.7356           24.76s\n",
            "        53        6413.6963           24.23s\n",
            "        54        6413.6675           23.70s\n",
            "        55        6413.6399           23.18s\n",
            "        56        6413.6204           22.66s\n",
            "        57        6413.6050           22.15s\n",
            "        58        6413.5849           21.64s\n",
            "        59        6413.5643           21.13s\n",
            "        60        6413.5540           20.62s\n",
            "        61        6413.5335           20.11s\n",
            "        62        6413.5267           19.59s\n",
            "        63        6413.5123           19.11s\n",
            "        64        6413.4933           18.62s\n",
            "        65        6413.4847           18.15s\n",
            "        66        6413.4803           17.67s\n",
            "        67        6413.4761           17.17s\n",
            "        68        6413.4670           16.68s\n",
            "        69        6413.4641           16.18s\n",
            "        70        6413.4605           15.70s\n",
            "        71        6413.4482           15.21s\n",
            "        72        6413.4402           14.70s\n",
            "        73        6413.4325           14.20s\n",
            "        74        6413.4248           13.70s\n",
            "        75        6413.4186           13.20s\n",
            "        76        6413.4174           12.70s\n",
            "        77        6413.4139           12.18s\n",
            "        78        6413.4098           11.67s\n",
            "        79        6413.4072           11.15s\n",
            "        80        6413.4037           10.64s\n",
            "        81        6413.4017           10.12s\n",
            "        82        6413.4000            9.60s\n",
            "        83        6413.3956            9.06s\n",
            "        84        6413.3948            8.54s\n",
            "        85        6413.3930            8.01s\n",
            "        86        6413.3913            7.48s\n",
            "        87        6413.3908            6.95s\n",
            "        88        6413.3903            6.42s\n",
            "        89        6413.3894            5.89s\n",
            "        90        6413.3890            5.35s\n",
            "        91        6413.3882            4.81s\n",
            "        92        6413.3880            4.28s\n",
            "        93        6413.3871            3.74s\n",
            "        94        6413.3867            3.21s\n",
            "        95        6413.3860            2.67s\n",
            "        96        6413.3859            2.14s\n",
            "        97        6413.3823            1.61s\n",
            "        98        6413.3793            1.08s\n",
            "        99        6413.3770            0.54s\n",
            "       100        6413.3768            0.00s\n"
          ],
          "name": "stdout"
        },
        {
          "output_type": "execute_result",
          "data": {
            "text/plain": [
              "Pipeline(memory=None,\n",
              "         steps=[('preprocessor',\n",
              "                 ColumnTransformer(n_jobs=None, remainder='drop',\n",
              "                                   sparse_threshold=0.3,\n",
              "                                   transformer_weights=None,\n",
              "                                   transformers=[('ord_cat',\n",
              "                                                  SimpleImputer(add_indicator=False,\n",
              "                                                                copy=True,\n",
              "                                                                fill_value=0,\n",
              "                                                                missing_values=nan,\n",
              "                                                                strategy='constant',\n",
              "                                                                verbose=0),\n",
              "                                                  ['Product_Category_2',\n",
              "                                                   'Product_Category_3']),\n",
              "                                                 ('nom_cat',\n",
              "                                                  OneHotEncoder(categories=...\n",
              "                                           learning_rate=0.1, loss='ls',\n",
              "                                           max_depth=10, max_features=None,\n",
              "                                           max_leaf_nodes=None,\n",
              "                                           min_impurity_decrease=0.0,\n",
              "                                           min_impurity_split=None,\n",
              "                                           min_samples_leaf=1,\n",
              "                                           min_samples_split=2,\n",
              "                                           min_weight_fraction_leaf=0.0,\n",
              "                                           n_estimators=100,\n",
              "                                           n_iter_no_change=None,\n",
              "                                           presort='deprecated',\n",
              "                                           random_state=None, subsample=1.0,\n",
              "                                           tol=5, validation_fraction=0.1,\n",
              "                                           verbose=2, warm_start=False))],\n",
              "         verbose=False)"
            ]
          },
          "metadata": {
            "tags": []
          },
          "execution_count": 26
        }
      ]
    },
    {
      "cell_type": "code",
      "metadata": {
        "id": "8u53i8WoNxF0",
        "outputId": "d9b40835-578a-4fc6-8f87-b0f5779a2878",
        "colab": {
          "base_uri": "https://localhost:8080/",
          "height": 34
        }
      },
      "source": [
        "reg.score(X_train, y_train)"
      ],
      "execution_count": 27,
      "outputs": [
        {
          "output_type": "execute_result",
          "data": {
            "text/plain": [
              "0.22101156722750304"
            ]
          },
          "metadata": {
            "tags": []
          },
          "execution_count": 27
        }
      ]
    },
    {
      "cell_type": "code",
      "metadata": {
        "id": "ln3o1W9r-481",
        "outputId": "5c15642c-931d-4e93-df9f-b2cf8f0d1a6f",
        "colab": {
          "base_uri": "https://localhost:8080/",
          "height": 34
        }
      },
      "source": [
        "reg.score(X_val, y_val) #R2"
      ],
      "execution_count": 28,
      "outputs": [
        {
          "output_type": "execute_result",
          "data": {
            "text/plain": [
              "-3.197468383144913"
            ]
          },
          "metadata": {
            "tags": []
          },
          "execution_count": 28
        }
      ]
    },
    {
      "cell_type": "code",
      "metadata": {
        "id": "8mp0FRRD_3Ss"
      },
      "source": [
        "y_preds = reg.predict(X_val)"
      ],
      "execution_count": 29,
      "outputs": []
    },
    {
      "cell_type": "code",
      "metadata": {
        "id": "23gtKGMALr_Y",
        "outputId": "12498783-6231-45da-dd56-4c42f8b6279a",
        "colab": {
          "base_uri": "https://localhost:8080/",
          "height": 34
        }
      },
      "source": [
        "# RMSE\n",
        "from sklearn.metrics import mean_squared_error\n",
        "\n",
        "np.sqrt(mean_squared_error(stats.boxcox(y_val)[0], y_preds))"
      ],
      "execution_count": 30,
      "outputs": [
        {
          "output_type": "execute_result",
          "data": {
            "text/plain": [
              "77.58511738400607"
            ]
          },
          "metadata": {
            "tags": []
          },
          "execution_count": 30
        }
      ]
    },
    {
      "cell_type": "markdown",
      "metadata": {
        "id": "ov-OZqEBiP6S"
      },
      "source": [
        "# Test"
      ]
    },
    {
      "cell_type": "code",
      "metadata": {
        "id": "CEtPhwlniZ2I"
      },
      "source": [
        "df_test = pd.read_csv(os.path.join(DIR, 'test.csv'))"
      ],
      "execution_count": 31,
      "outputs": []
    },
    {
      "cell_type": "code",
      "metadata": {
        "id": "8sWvRqzjihEU"
      },
      "source": [
        "df_test = df_test.fillna(0)"
      ],
      "execution_count": 32,
      "outputs": []
    },
    {
      "cell_type": "code",
      "metadata": {
        "id": "6FiLzvfEiky6"
      },
      "source": [
        "df_test = df_test.astype({'Product_Category_2':'int64', 'Product_Category_3':'int64'})"
      ],
      "execution_count": 33,
      "outputs": []
    },
    {
      "cell_type": "code",
      "metadata": {
        "id": "l__Ka2y6irh5"
      },
      "source": [
        "df_test = df_test.drop(columns=['User_ID', 'Product_ID'], axis=1)"
      ],
      "execution_count": 34,
      "outputs": []
    },
    {
      "cell_type": "code",
      "metadata": {
        "id": "SLcsQLpRiuE2"
      },
      "source": [
        "df_app['Age'] = df_test['Age'].replace(['0-17', '18-25', '26-35', '36-45', '46-50', '51-55', '55+'], [0, 1, 2, 3, 4, 5, 6])"
      ],
      "execution_count": 35,
      "outputs": []
    },
    {
      "cell_type": "code",
      "metadata": {
        "id": "J2tx8jjKiypP"
      },
      "source": [
        "df_test['Stay_In_Current_City_Years'] = df_test['Stay_In_Current_City_Years'].replace('4+', '4')\n",
        "df_test['Stay_In_Current_City_Years'] = df_test['Stay_In_Current_City_Years'].astype('int64')"
      ],
      "execution_count": 36,
      "outputs": []
    },
    {
      "cell_type": "code",
      "metadata": {
        "id": "Jb75AOb8i5F5"
      },
      "source": [
        "from sklearn.model_selection import train_test_split \n",
        "from scipy import stats\n",
        "\n",
        "X_test = df_test"
      ],
      "execution_count": 37,
      "outputs": []
    },
    {
      "cell_type": "code",
      "metadata": {
        "id": "uQox-SIljOd-"
      },
      "source": [
        "y_preds_test = reg.predict(X_test)"
      ],
      "execution_count": 38,
      "outputs": []
    },
    {
      "cell_type": "code",
      "metadata": {
        "id": "s-YwHYujlNCt",
        "outputId": "53e5b65b-a786-4458-f26b-99c8669bba75",
        "colab": {
          "base_uri": "https://localhost:8080/",
          "height": 337
        }
      },
      "source": [
        "sns.distplot(y_preds_test, hist=True, kde=True, \n",
        "             color = 'darkblue', \n",
        "             hist_kws={'edgecolor':'black'},\n",
        "             kde_kws={'linewidth': 4})"
      ],
      "execution_count": 39,
      "outputs": [
        {
          "output_type": "stream",
          "text": [
            "/usr/local/lib/python3.6/dist-packages/seaborn/distributions.py:2551: FutureWarning: `distplot` is a deprecated function and will be removed in a future version. Please adapt your code to use either `displot` (a figure-level function with similar flexibility) or `histplot` (an axes-level function for histograms).\n",
            "  warnings.warn(msg, FutureWarning)\n"
          ],
          "name": "stderr"
        },
        {
          "output_type": "execute_result",
          "data": {
            "text/plain": [
              "<matplotlib.axes._subplots.AxesSubplot at 0x7f7b990fa828>"
            ]
          },
          "metadata": {
            "tags": []
          },
          "execution_count": 39
        },
        {
          "output_type": "display_data",
          "data": {
            "image/png": "[encoded data removed]",
            "text/plain": [
              "<Figure size 432x288 with 1 Axes>"
            ]
          },
          "metadata": {
            "tags": [],
            "needs_background": "light"
          }
        }
      ]
    },
    {
      "cell_type": "markdown",
      "metadata": {
        "id": "WLcaVjwJpzks"
      },
      "source": [
        "Results (RSME):\n",
        "* GradientBoostingRegressor - 77.58511738400607\n",
        "* XGBoost - 77.59737917802637\n",
        "* RandomForestRegressor - 79.85704311414509"
      ]
    }
  ]
}